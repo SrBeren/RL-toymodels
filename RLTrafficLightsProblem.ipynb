{
 "cells": [
  {
   "cell_type": "markdown",
   "metadata": {},
   "source": [
    "This is a short experiment implementing DeepMind's A3C algorithm to solve the traffic lights problem. The implementation is by no means meant to be original, instead draws for different versions available online.\n",
    "\n",
    "The concrete statement of the traffic lights problems is as follows:\n",
    "\n",
    "Suppose you are a path which contain a number $lights$ of traffic lights, each of which displays a random amount of time $time\\_left$, uniformily distributed on the interval $[0, time]$ to be waited to before you may cross. Suppose additionally that the time displayed in each of the lights is independent form the others. In your pocession you have a device that allows you to skip a number $uses$ of lights.\n",
    "Given that you use the optimal strategy, what is the expected amount of waiting time on the whole path?\n",
    "\n",
    "Using the independence of the traffic lights it is quite easy to derive a recursive formula for the optimal strategy. The goal of the present experiment is to answer the question: \"can a neural network learn the optimal strategy from experience?\"\n",
    "\n",
    "At it's present state, our agent manages to attain around 80%+ of the optimal performance, however, the training is not stable, some lucky runs might see performances above 96% and some unlucky runs can see the agent performing no better than random choice.\n",
    "Current work is being done to implement a recurent version of this algorithm in hopes to improve stability"
   ]
  },
  {
   "cell_type": "code",
   "execution_count": 1,
   "metadata": {},
   "outputs": [
    {
     "name": "stderr",
     "output_type": "stream",
     "text": [
      "Using TensorFlow backend.\n"
     ]
    }
   ],
   "source": [
    "import threading\n",
    "import numpy as np\n",
    "# set the random seed\n",
    "#np.random.seed(42)\n",
    "import pandas as pd\n",
    "import matplotlib.pyplot as plt\n",
    "import tensorflow as tf\n",
    "from keras.layers import Dense, Input\n",
    "from keras.models import Model\n",
    "from keras.optimizers import RMSprop\n",
    "from keras.regularizers import l2\n",
    "from keras import backend as K"
   ]
  },
  {
   "cell_type": "code",
   "execution_count": 2,
   "metadata": {
    "collapsed": true
   },
   "outputs": [],
   "source": [
    "# global variables for threading\n",
    "episode = 0\n",
    "scores = []\n",
    "\n",
    "# settings regarting the actor-critic network\n",
    "EPISODES = 100000\n",
    "ENTROPY_FACTOR = 0.025\n",
    "LEARNING_RATE = 0.000025\n",
    "CRITIC_FACTOR = 1\n",
    "DISCOUNT = 0.9\n",
    "HIDDEN_1_SIZE = 64\n",
    "HIDDEN_2_SIZE = 128\n",
    "THREADS = 8\n",
    "ALPHA = 0.0001\n",
    "\n",
    "# settings for the traffic lights enviroment to be used for training\n",
    "MAX_LIGHTS = 25  # max number of lights if this is allowed to be random\n",
    "LIGHTS= 10  # number of lights, set to None for random\n",
    "USES = None  # number of times on can skip a light, set to None for random\n",
    "TIME = 100  # maximum waiting time at each light"
   ]
  },
  {
   "cell_type": "code",
   "execution_count": 3,
   "metadata": {
    "collapsed": true
   },
   "outputs": [],
   "source": [
    "def estimated_time_recursion(lights, uses, time=TIME):\n",
    "    \"\"\"This is the recursive solution\"\"\"\n",
    "    if lights == 0:\n",
    "        return 0\n",
    "    elif uses == 0:\n",
    "        return lights*time/2\n",
    "    elif lights <= uses:\n",
    "        return 0\n",
    "    else:\n",
    "        a = estimated_time_recursion(lights - 1, uses - 1, time)\n",
    "        return a - (1/(2*time))*(a - estimated_time_recursion(lights - 1, uses, time))**2"
   ]
  },
  {
   "cell_type": "code",
   "execution_count": 4,
   "metadata": {},
   "outputs": [],
   "source": [
    "class TrafficLightsProblem:\n",
    "    \"\"\"Enviroment for the traffic lights problem \n",
    "    following the template from OpenAI Gym \n",
    "    \"\"\"\n",
    "    def __init__(self, lights=LIGHTS, uses=USES):\n",
    "        if lights is None:\n",
    "            self.lights = np.random.randint(low=2, high=MAX_LIGHTS + 1)\n",
    "        else:\n",
    "            self.lights = lights\n",
    "\n",
    "        if uses is None:\n",
    "            self.uses = np.random.randint(low=1, high=self.lights)\n",
    "        else:\n",
    "            self.uses = uses\n",
    "\n",
    "        self.time_left = np.random.randint(low=0, high=TIME + 1)\n",
    "        \n",
    "        self.total_time = 0\n",
    "\n",
    "    def reset(self, lights=LIGHTS, uses=USES):\n",
    "        if lights is None:\n",
    "            self.lights = np.random.randint(low=2, high=MAX_LIGHTS + 1)\n",
    "        else:\n",
    "            self.lights = lights\n",
    "\n",
    "        if uses is None:\n",
    "            self.uses = np.random.randint(low=1, high=self.lights)\n",
    "        else:\n",
    "            self.uses = uses\n",
    "        \n",
    "        self.total_time = 0\n",
    "        self.time_left = np.random.randint(low=0, high=TIME + 1)\n",
    "        return np.array([self.lights, self.uses, self.time_left])\n",
    "\n",
    "    def step(self, action=0):\n",
    "        self.lights -= 1\n",
    "        reward = 0\n",
    "        \n",
    "        if action == 1 and self.uses > 0:\n",
    "            self.uses -= 1\n",
    "            reward = self.time_left  #if the agent uses the device, we reward it with the time it saved\n",
    "        else:\n",
    "            self.total_time += self.time_left\n",
    "        \n",
    "        if self.uses <= 0:\n",
    "            self.total_time += sum(np.random.randint(low=0, high=TIME + 1) for i in range(self.lights))\n",
    "            self.lights = 0\n",
    "        elif self.uses >= self.lights:\n",
    "            self.lights = 0\n",
    "        \n",
    "        self.time_left = np.random.randint(low=0, high=TIME + 1) if self.lights > 0 else 0\n",
    "        \n",
    "        if self.lights == 0:\n",
    "            reward += -self.total_time  # by the end of the game, we penalize the agent with the total time\n",
    "\n",
    "        return [np.array([self.lights, self.uses, self.time_left]), reward, self.lights == 0, {}]\n",
    "\n",
    "    def state(self):\n",
    "        return np.array([self.lights, self.uses, self.time_left])"
   ]
  },
  {
   "cell_type": "code",
   "execution_count": 5,
   "metadata": {
    "collapsed": true
   },
   "outputs": [],
   "source": [
    "class A3CAgent:\n",
    "    \"\"\"A3C agent addapted for our enviroment \"\"\"\n",
    "    def __init__(self, state_size, action_size):\n",
    "        # size of state and action\n",
    "        self.state_size = state_size\n",
    "        self.action_size = action_size\n",
    "\n",
    "        # Hyper parameters as defined in the settings\n",
    "        self.actor_lr = LEARNING_RATE\n",
    "        self.critic_lr = CRITIC_FACTOR*LEARNING_RATE\n",
    "        self.discount_factor = DISCOUNT\n",
    "        self.hidden1, self.hidden2 = HIDDEN_1_SIZE, HIDDEN_2_SIZE\n",
    "        self.entropy_factor = ENTROPY_FACTOR\n",
    "        self.threads = THREADS\n",
    "\n",
    "        # create model for actor and critic network\n",
    "        self.actor, self.critic = self.build_model()\n",
    "\n",
    "        # method for training actor and critic network\n",
    "        self.optimizer = [self.actor_optimizer(), self.critic_optimizer()]\n",
    "\n",
    "        self.sess = tf.InteractiveSession()\n",
    "        K.set_session(self.sess)\n",
    "        self.sess.run(tf.global_variables_initializer())\n",
    "\n",
    "    # actor -> state is input and probability of each action is output of network\n",
    "    # critic -> state is input and value of state is output of network\n",
    "    # actor and critic network share first hidden layer\n",
    "    def build_model(self):\n",
    "        state = Input(batch_shape=(None,  self.state_size))\n",
    "        shared_1 = Dense(self.hidden1, input_dim=self.state_size, activation='relu', kernel_initializer='glorot_uniform')(state)\n",
    "        shared_2 = Dense(self.hidden1, input_dim=self.state_size, activation='relu', kernel_initializer='glorot_uniform')(shared_1)\n",
    "        shared_f = Dense(self.hidden2, input_dim=self.state_size, activation='relu', kernel_initializer='glorot_uniform')(shared_2)\n",
    "\n",
    "        actor_hidden = Dense(self.hidden2, activation='relu', kernel_initializer='glorot_uniform')(shared_f)\n",
    "        action_prob = Dense(self.action_size, activation='softmax', kernel_initializer='glorot_uniform')(actor_hidden)\n",
    "\n",
    "        value_hidden = Dense(self.hidden2, activation='relu', kernel_initializer='he_uniform')(shared_f)\n",
    "        state_value = Dense(1, activation='linear', kernel_initializer='he_uniform')(value_hidden)\n",
    "\n",
    "        actor = Model(inputs=state, outputs=action_prob)\n",
    "        critic = Model(inputs=state, outputs=state_value)\n",
    "\n",
    "        actor._make_predict_function()\n",
    "        critic._make_predict_function()\n",
    "\n",
    "        actor.summary()\n",
    "        critic.summary()\n",
    "\n",
    "        return actor, critic\n",
    "\n",
    "    # loss function for Policy Gradient\n",
    "    # added entropy to encourage exploration\n",
    "    def actor_optimizer(self):\n",
    "        action = K.placeholder(shape=(None, self.action_size))\n",
    "        advantages = K.placeholder(shape=(None, ))\n",
    "\n",
    "        policy = self.actor.output\n",
    "\n",
    "        good_prob = K.sum(action * policy, axis=1)\n",
    "        eligibility = K.log(good_prob + 1e-10) * K.stop_gradient(advantages)\n",
    "        loss = -K.sum(eligibility)\n",
    "\n",
    "        entropy = K.sum(policy * K.log(policy + 1e-10), axis=1)\n",
    "\n",
    "        actor_loss = loss + self.entropy_factor*entropy\n",
    "\n",
    "        optimizer = RMSprop(lr=self.actor_lr)\n",
    "        updates = optimizer.get_updates(self.actor.trainable_weights, [], actor_loss)\n",
    "        train = K.function([self.actor.input, action, advantages], [], updates=updates)\n",
    "        return train\n",
    "\n",
    "    # loss function for Value approximation\n",
    "    def critic_optimizer(self):\n",
    "        discounted_reward = K.placeholder(shape=(None, ))\n",
    "\n",
    "        value = self.critic.output\n",
    "\n",
    "        loss = K.mean(K.square(discounted_reward - value))\n",
    "\n",
    "        optimizer = RMSprop(lr=self.critic_lr)\n",
    "        updates = optimizer.get_updates(self.critic.trainable_weights, [], loss)\n",
    "        train = K.function([self.critic.input, discounted_reward], [], updates=updates)\n",
    "        return train\n",
    "\n",
    "    # generate the separate agents for training\n",
    "    def train(self):\n",
    "        agents = [Agent(i, self.actor, self.critic, self.optimizer, self.discount_factor,\n",
    "                        self.action_size, self.state_size) for i in range(self.threads)]\n",
    "\n",
    "        for agent in agents:\n",
    "            agent.start()\n",
    "            \n",
    "        for agent in agents:\n",
    "            agent.join()\n",
    "            \n",
    "        scores_pd = pd.DataFrame(scores)    \n",
    "        rolling = scores_pd.rolling(window=50,center=False).mean()\n",
    "        ax_scores = scores_pd.plot(alpha=0.3, legend=False)\n",
    "        rolling.plot(ax=ax_scores, legend=False)\n",
    "        plt.show()\n"
   ]
  },
  {
   "cell_type": "code",
   "execution_count": 6,
   "metadata": {
    "collapsed": true
   },
   "outputs": [],
   "source": [
    "class Agent(threading.Thread):\n",
    "    \"\"\"agent class for threading \"\"\"\n",
    "    def __init__(self, index, actor, critic, optimizer, discount_factor, action_size, state_size):\n",
    "        threading.Thread.__init__(self)\n",
    "\n",
    "        self.states = []\n",
    "        self.rewards = []\n",
    "        self.actions = []\n",
    "\n",
    "        self.index = index\n",
    "        self.actor = actor\n",
    "        self.critic = critic\n",
    "        self.optimizer = optimizer\n",
    "        self.discount_factor = discount_factor\n",
    "        self.action_size = action_size\n",
    "        self.state_size = state_size\n",
    "\n",
    "    # thread interacting with environment\n",
    "    def run(self):\n",
    "        global episode\n",
    "        env = TrafficLightsProblem()\n",
    "        while episode < EPISODES:\n",
    "            state = env.reset()\n",
    "            score = 0\n",
    "            normalizator = TIME*(env.lights - env.uses)/2\n",
    "            while True:\n",
    "                action = self.get_action(state)\n",
    "                next_state, reward, done, _ = env.step(action)\n",
    "                score += reward/(normalizator)\n",
    "\n",
    "                self.memory(state, action, reward/normalizator)\n",
    "\n",
    "                state = next_state\n",
    "\n",
    "                if done:\n",
    "                    episode += 1\n",
    "                    #print(\"episode: \", episode, \"/ score : \", score)\n",
    "                    scores.append(score)\n",
    "                    \n",
    "                    self.train_episode(False)\n",
    "                    break\n",
    "\n",
    "    def discount_rewards(self, rewards, done=True):\n",
    "        discounted_rewards = np.zeros_like(rewards)\n",
    "        running_add = 0\n",
    "        if not done:\n",
    "            running_add = self.critic.predict(np.reshape(self.states[-1], (1, self.state_size)))[0]\n",
    "        for t in reversed(range(0, len(rewards))):\n",
    "            running_add = running_add * self.discount_factor + rewards[t]\n",
    "            discounted_rewards[t] = running_add\n",
    "        return discounted_rewards\n",
    "\n",
    "    # save <s, a ,r> of each step\n",
    "    def memory(self, state, action, reward):\n",
    "        self.states.append(state)\n",
    "        act = np.zeros(self.action_size)\n",
    "        act[action] = 1\n",
    "        self.actions.append(act)\n",
    "        self.rewards.append(reward)\n",
    "\n",
    "    # update policy and value networks after every episode\n",
    "    def train_episode(self, done):\n",
    "        discounted_rewards = self.discount_rewards(self.rewards, done)\n",
    "\n",
    "        values = self.critic.predict(np.array(self.states))\n",
    "        values = np.reshape(values, len(values))\n",
    "\n",
    "        advantages = discounted_rewards - values\n",
    "\n",
    "        self.optimizer[0]([self.states, self.actions, advantages])\n",
    "        self.optimizer[1]([self.states, discounted_rewards])\n",
    "        self.states, self.actions, self.rewards = [], [], []\n",
    "\n",
    "    def get_action(self, state):\n",
    "        policy = self.actor.predict(np.reshape(state, [1, self.state_size]))[0]\n",
    "        return np.random.choice(self.action_size, 1, p=policy)[0]\n"
   ]
  },
  {
   "cell_type": "code",
   "execution_count": 7,
   "metadata": {
    "scrolled": true
   },
   "outputs": [
    {
     "name": "stdout",
     "output_type": "stream",
     "text": [
      "_________________________________________________________________\nLayer (type)                 Output Shape              Param #   \n=================================================================\ninput_1 (InputLayer)         (None, 3)                 0         \n_________________________________________________________________\ndense_1 (Dense)              (None, 64)                256       \n_________________________________________________________________\ndense_2 (Dense)              (None, 64)                4160      \n_________________________________________________________________\ndense_3 (Dense)              (None, 128)               8320      \n_________________________________________________________________\ndense_4 (Dense)              (None, 128)               16512     \n_________________________________________________________________\ndense_5 (Dense)              (None, 2)                 258       \n=================================================================\nTotal params: 29,506\nTrainable params: 29,506\nNon-trainable params: 0\n_________________________________________________________________\n_________________________________________________________________\nLayer (type)                 Output Shape              Param #   \n=================================================================\ninput_1 (InputLayer)         (None, 3)                 0         \n_________________________________________________________________\ndense_1 (Dense)              (None, 64)                256       \n_________________________________________________________________\ndense_2 (Dense)              (None, 64)                4160      \n_________________________________________________________________\ndense_3 (Dense)              (None, 128)               8320      \n_________________________________________________________________\ndense_6 (Dense)              (None, 128)               16512     \n_________________________________________________________________\ndense_7 (Dense)              (None, 1)                 129       \n=================================================================\nTotal params: 29,377\nTrainable params: 29,377\nNon-trainable params: 0\n_________________________________________________________________\n"
     ]
    },
    {
     "data": {
      "image/png": "[encoded data removed]",
      "text/plain": [
       "<matplotlib.figure.Figure at 0x25b92939e48>"
      ]
     },
     "metadata": {},
     "output_type": "display_data"
    }
   ],
   "source": [
    "state_size = 3\n",
    "action_size = 2\n",
    "global_agent = A3CAgent(state_size, action_size)\n",
    "global_agent.train()"
   ]
  },
  {
   "cell_type": "code",
   "execution_count": 15,
   "metadata": {
    "scrolled": true
   },
   "outputs": [
    {
     "name": "stdout",
     "output_type": "stream",
     "text": [
      "Begining Simulation...\n[(0, 20), (0, 50), (0, 6), (1, 81), (1, 71), (1, 72), (0, 8), (1, 38), (1, 52)]\n"
     ]
    },
    {
     "name": "stdout",
     "output_type": "stream",
     "text": [
      "[(0, 56), (1, 73), (0, 3), (0, 32), (1, 77), (0, 2), (1, 65), (1, 69), (1, 100)]\n"
     ]
    },
    {
     "name": "stdout",
     "output_type": "stream",
     "text": [
      "[(0, 42), (1, 95), (0, 25), (1, 52), (0, 36), (1, 71), (1, 33), (1, 72)]\n"
     ]
    },
    {
     "name": "stdout",
     "output_type": "stream",
     "text": [
      "[(0, 24), (0, 26), (1, 35), (0, 22), (1, 77), (1, 87), (1, 56), (0, 36), (1, 45)]\n"
     ]
    },
    {
     "name": "stdout",
     "output_type": "stream",
     "text": [
      "[(0, 35), (1, 87), (0, 14), (1, 94), (0, 38), (0, 18), (1, 100), (1, 51), (0, 20)]\n"
     ]
    },
    {
     "name": "stdout",
     "output_type": "stream",
     "text": [
      "[(0, 18), (1, 88), (1, 75), (0, 31), (0, 20), (1, 72), (1, 54), (0, 46), (0, 1)]\n"
     ]
    },
    {
     "name": "stdout",
     "output_type": "stream",
     "text": [
      "[(1, 90), (1, 76), (0, 18), (1, 100), (1, 80), (0, 87), (0, 29), (1, 99)]\n"
     ]
    },
    {
     "name": "stdout",
     "output_type": "stream",
     "text": [
      "[(1, 99), (0, 65), (0, 30), (0, 23), (1, 25), (1, 76), (1, 58), (1, 80)]\n"
     ]
    },
    {
     "name": "stdout",
     "output_type": "stream",
     "text": [
      "[(0, 59), (0, 10), (1, 46), (0, 16), (1, 30), (0, 16), (1, 34), (1, 72), (1, 27)]\n"
     ]
    },
    {
     "name": "stdout",
     "output_type": "stream",
     "text": [
      "[(0, 40), (1, 90), (0, 28), (0, 34), (0, 12), (1, 39), (1, 72), (1, 60), (1, 68)]\n"
     ]
    },
    {
     "name": "stdout",
     "output_type": "stream",
     "text": [
      "[(0, 1), (0, 49), (0, 2), (0, 9), (1, 53), (1, 57), (1, 97), (1, 67), (1, 25)]\n"
     ]
    },
    {
     "name": "stdout",
     "output_type": "stream",
     "text": [
      "[(0, 16), (0, 30), (1, 51), (1, 87), (1, 58), (1, 99), (0, 29), (0, 47), (0, 10)]\n"
     ]
    },
    {
     "name": "stdout",
     "output_type": "stream",
     "text": [
      "[(1, 75), (0, 56), (1, 59), (1, 81), (1, 94), (0, 40), (1, 80)]\n"
     ]
    },
    {
     "name": "stdout",
     "output_type": "stream",
     "text": [
      "[(0, 18), (0, 12), (1, 79), (0, 36), (1, 44), (1, 71), (0, 32), (0, 10)]\n"
     ]
    },
    {
     "name": "stdout",
     "output_type": "stream",
     "text": [
      "[(0, 58), (0, 0), (1, 60), (1, 57), (0, 3), (1, 78), (0, 32), (1, 75), (1, 32)]\n"
     ]
    },
    {
     "name": "stdout",
     "output_type": "stream",
     "text": [
      "[(0, 30), (0, 26), (0, 8), (1, 70), (1, 78), (1, 100), (0, 29), (1, 38), (1, 40)]\n"
     ]
    },
    {
     "name": "stdout",
     "output_type": "stream",
     "text": [
      "[(0, 13), (1, 69), (0, 42), (0, 35), (1, 36), (1, 37), (1, 49), (1, 73)]\n"
     ]
    },
    {
     "name": "stdout",
     "output_type": "stream",
     "text": [
      "[(0, 59), (0, 30), (1, 52), (0, 0), (0, 4), (1, 94), (1, 88), (1, 24), (1, 33)]\n"
     ]
    },
    {
     "name": "stdout",
     "output_type": "stream",
     "text": [
      "[(1, 78), (0, 54), (1, 64), (0, 2), (1, 96), (1, 92), (0, 24), (0, 14), (1, 22)]\n"
     ]
    },
    {
     "name": "stdout",
     "output_type": "stream",
     "text": [
      "[(0, 16), (1, 88), (1, 77), (0, 34), (0, 41), (1, 91), (1, 67), (1, 50)]\n"
     ]
    },
    {
     "name": "stdout",
     "output_type": "stream",
     "text": [
      "actor done\nMC mean:  160.6305 , Recursion Formula: 151.52748308743406\nPerformance:  90.75577917781004\n"
     ]
    }
   ],
   "source": [
    "# to evaluate the model, we let it play the game under fixed conditions\n",
    "# and compare the performance with our recursive formula\n",
    "\n",
    "game = TrafficLightsProblem()\n",
    "\n",
    "results = []\n",
    "test_lights = 10\n",
    "test_uses = 5\n",
    "print('Begining Simulation...')\n",
    "\n",
    "for i in range(2000):\n",
    "    state = game.reset(lights=test_lights, uses=test_uses)\n",
    "    done = False\n",
    "    actions =[]\n",
    "    while done is not True:\n",
    "        action = 0\n",
    "        if state[0] > 0:\n",
    "            policy = global_agent.actor.predict(np.reshape(state, [1, state_size]))[0]\n",
    "            action = np.argmax(policy)\n",
    "            if i % 100 == 0:\n",
    "                actions.append((action, state[2]))\n",
    "        state, reward, done, _ = game.step(action)\n",
    "    results.append(game.total_time)\n",
    "    if i % 100 == 0:\n",
    "        print(actions)\n",
    "\n",
    "print('actor done')\n",
    "\n",
    "result = sum(results)/len(results)\n",
    "target = estimated_time_recursion(test_lights, test_uses)\n",
    "worst_case = TIME*(test_lights - test_uses)/2\n",
    "performance = 100*(result - worst_case)/(target - worst_case)\n",
    "\n",
    "print('MC mean: ', result, ', Recursion Formula:',  target)\n",
    "print('Performance: ', performance)"
   ]
  },
  {
   "cell_type": "code",
   "execution_count": null,
   "metadata": {},
   "outputs": [],
   "source": []
  }
 ],
 "metadata": {
  "kernelspec": {
   "display_name": "Python 3",
   "language": "python",
   "name": "python3"
  },
  "language_info": {
   "codemirror_mode": {
    "name": "ipython",
    "version": 3
   },
   "file_extension": ".py",
   "mimetype": "text/x-python",
   "name": "python",
   "nbconvert_exporter": "python",
   "pygments_lexer": "ipython3",
   "version": "3.6.3"
  }
 },
 "nbformat": 4,
 "nbformat_minor": 1
}
